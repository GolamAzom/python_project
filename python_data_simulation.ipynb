{
 "cells": [
  {
   "cell_type": "code",
   "execution_count": 1,
   "id": "bb98dd34-57f8-41dd-ae92-0376b8897ef1",
   "metadata": {},
   "outputs": [
    {
     "name": "stdin",
     "output_type": "stream",
     "text": [
      "Select your first restriction enzyme EcoRI\n",
      "Select your second restriction enzyme XbaI\n",
      "Select your first restriction enzyme NotI\n",
      "Select your second restriction enzyme XmaI\n",
      "Select your first restriction enzyme EcoRV\n",
      "Select your second restriction enzyme SphI\n",
      "Select your first restriction enzyme AatlI\n",
      "Select your second restriction enzyme SbfI\n",
      "Select your first restriction enzyme AgeI\n",
      "Select your second restriction enzyme XmaI\n",
      "Select your first restriction enzyme AgeI\n",
      "Select your second restriction enzyme StuI\n",
      "Select your first restriction enzyme ApaI\n",
      "Select your second restriction enzyme SphI\n",
      "Select your first restriction enzyme EcoRI\n",
      "Select your second restriction enzyme SmaI\n",
      "Select your first restriction enzyme AcII\n",
      "Select your second restriction enzyme SbfI\n",
      "Select your first restriction enzyme BamHI\n",
      "Select your second restriction enzyme SaII\n",
      "Select your first restriction enzyme BsiWI\n",
      "Select your second restriction enzyme StuI\n",
      "Select your first restriction enzyme AvrII\n",
      "Select your second restriction enzyme SacI\n",
      "Select your first restriction enzyme AgeI\n",
      "Select your second restriction enzyme SphI\n",
      "Select your first restriction enzyme AatlI\n",
      "Select your second restriction enzyme PsiI\n",
      "Select your first restriction enzyme HhaI\n",
      "Select your second restriction enzyme XmaI\n",
      "Select your first restriction enzyme BstBI\n",
      "Select your second restriction enzyme SacII\n",
      "Select your first restriction enzyme BglII\n",
      "Select your second restriction enzyme PstI\n",
      "Select your first restriction enzyme HaeIII\n",
      "Select your second restriction enzyme SbfI\n",
      "Select your first restriction enzyme ClaI\n",
      "Select your second restriction enzyme KasI\n",
      "Select your first restriction enzyme HpaII\n",
      "Select your second restriction enzyme NdeI\n",
      "Select your first restriction enzyme MscI\n",
      "Select your second restriction enzyme NaeI\n",
      "Select your first restriction enzyme CfoI\n",
      "Select your second restriction enzyme NcoI\n",
      "Select your first restriction enzyme MfeI\n",
      "Select your second restriction enzyme PciI\n",
      "Select your first restriction enzyme MboI\n",
      "Select your second restriction enzyme PsiI\n",
      "Select your first restriction enzyme HpaII\n",
      "Select your second restriction enzyme PstI\n",
      "Select your first restriction enzyme NdeI\n",
      "Select your second restriction enzyme RsaI\n",
      "Select your first restriction enzyme NarI\n",
      "Select your second restriction enzyme KasI\n",
      "Select your first restriction enzyme HaeIII\n",
      "Select your second restriction enzyme SaII\n",
      "Select your first restriction enzyme HpaII\n",
      "Select your second restriction enzyme SacI\n",
      "Select your first restriction enzyme AscI\n",
      "Select your second restriction enzyme PvuI\n",
      "Select your first restriction enzyme BmtI\n",
      "Select your second restriction enzyme NcoI\n",
      "Select your first restriction enzyme NdeI\n",
      "Select your second restriction enzyme SacII\n",
      "Select your first restriction enzyme NheI\n",
      "Select your second restriction enzyme StuI\n",
      "Select your first restriction enzyme BcII\n",
      "Select your second restriction enzyme HhaI\n",
      "Select your first restriction enzyme HindIII\n",
      "Select your second restriction enzyme HpaI\n",
      "Select your first restriction enzyme ClaI\n",
      "Select your second restriction enzyme DraI\n",
      "Select your first restriction enzyme HpnI\n",
      "Select your second restriction enzyme MspI\n",
      "Select your first restriction enzyme NarI\n",
      "Select your second restriction enzyme PacI\n",
      "Select your first restriction enzyme PstI\n",
      "Select your second restriction enzyme XhoI\n",
      "Select your first restriction enzyme AgeI\n",
      "Select your second restriction enzyme SphI\n",
      "Select your first restriction enzyme SaII\n",
      "Select your second restriction enzyme XmaI\n",
      "Select your first restriction enzyme MseI\n",
      "Select your second restriction enzyme MspI\n",
      "Select your first restriction enzyme MboI\n",
      "Select your second restriction enzyme NcoI\n",
      "Select your first restriction enzyme AgeI\n",
      "Select your second restriction enzyme BcII\n",
      "Select your first restriction enzyme AvrII\n",
      "Select your second restriction enzyme NdeI\n",
      "Select your first restriction enzyme BmtI\n",
      "Select your second restriction enzyme SbfI\n",
      "Select your first restriction enzyme ApaLI\n",
      "Select your second restriction enzyme AscI\n",
      "Select your first restriction enzyme AcII\n",
      "Select your second restriction enzyme CfoI\n",
      "Select your first restriction enzyme HindP1II\n",
      "Select your second restriction enzyme KpnI\n",
      "Select your first restriction enzyme MboI\n",
      "Select your second restriction enzyme SbfI\n"
     ]
    },
    {
     "name": "stdout",
     "output_type": "stream",
     "text": [
      "Melting temperature of forward primers = [47, 47, 45, 53, 45, 47, 53, 53, 55, 45, 51, 51, 51, 49, 51, 47, 53, 53, 53, 51, 59, 47, 49, 51, 47, 51, 55, 45, 45, 51, 53, 55, 45, 41, 43, 43, 43, 49, 39, 45, 51, 49, 43, 49, 53, 39, 49, 49, 47, 41]\n",
      "Melting temperature of reverse primers = [45, 49, 45, 51, 51, 47, 47, 57, 51, 43, 51, 57, 43, 49, 47, 55, 57, 53, 53, 55, 51, 49, 49, 49, 49, 53, 49, 53, 51, 49, 49, 45, 53, 39, 49, 41, 43, 47, 49, 43, 47, 47, 45, 53, 51, 53, 53, 47, 45, 57]\n",
      "GC content of forward primers = [50.0, 50.0, 44.44444444444444, 66.66666666666666, 44.44444444444444, 50.0, 66.66666666666666, 66.66666666666666, 72.22222222222221, 44.44444444444444, 61.111111111111114, 61.111111111111114, 61.111111111111114, 55.55555555555556, 61.111111111111114, 50.0, 66.66666666666666, 66.66666666666666, 66.66666666666666, 61.111111111111114, 83.33333333333334, 50.0, 55.55555555555556, 61.111111111111114, 50.0, 61.111111111111114, 72.22222222222221, 44.44444444444444, 44.44444444444444, 61.111111111111114, 66.66666666666666, 72.22222222222221, 44.44444444444444, 33.33333333333333, 38.88888888888889, 38.88888888888889, 38.88888888888889, 55.55555555555556, 27.77777777777778, 44.44444444444444, 61.111111111111114, 55.55555555555556, 38.88888888888889, 55.55555555555556, 66.66666666666666, 27.77777777777778, 55.55555555555556, 55.55555555555556, 50.0, 33.33333333333333]\n",
      "GC content of reverse primers = [44.44444444444444, 55.55555555555556, 44.44444444444444, 61.111111111111114, 61.111111111111114, 50.0, 50.0, 77.77777777777779, 61.111111111111114, 38.88888888888889, 61.111111111111114, 77.77777777777779, 38.88888888888889, 55.55555555555556, 50.0, 72.22222222222221, 77.77777777777779, 66.66666666666666, 66.66666666666666, 72.22222222222221, 61.111111111111114, 55.55555555555556, 55.55555555555556, 55.55555555555556, 55.55555555555556, 66.66666666666666, 55.55555555555556, 66.66666666666666, 61.111111111111114, 55.55555555555556, 55.55555555555556, 44.44444444444444, 66.66666666666666, 27.77777777777778, 55.55555555555556, 33.33333333333333, 38.88888888888889, 50.0, 55.55555555555556, 38.88888888888889, 50.0, 50.0, 44.44444444444444, 66.66666666666666, 61.111111111111114, 66.66666666666666, 66.66666666666666, 50.0, 44.44444444444444, 77.77777777777779]\n",
      "Melting temperature forward primers with restriction sites = [63, 79, 61, 73, 65, 67, 77, 69, 71, 65, 71, 71, 71, 69, 67, 63, 69, 69, 69, 67, 79, 63, 65, 63, 63, 67, 67, 61, 61, 83, 73, 71, 65, 57, 59, 59, 59, 73, 59, 65, 71, 57, 55, 69, 73, 59, 69, 65, 65, 53]\n",
      "Melting temperature reverse primers with restriction sites = [61, 73, 65, 79, 75, 67, 67, 81, 79, 63, 71, 77, 63, 61, 71, 79, 77, 81, 77, 71, 75, 69, 65, 61, 69, 65, 73, 73, 71, 69, 69, 69, 73, 55, 65, 53, 59, 63, 69, 63, 71, 63, 65, 69, 67, 81, 85, 63, 65, 85]\n",
      "GC content of forward primers with restriction sites = [45.83333333333333, 65.38461538461539, 41.66666666666667, 66.66666666666666, 50.0, 54.166666666666664, 75.0, 58.333333333333336, 62.5, 50.0, 62.5, 62.5, 62.5, 58.333333333333336, 68.18181818181817, 45.83333333333333, 58.333333333333336, 72.72727272727273, 58.333333333333336, 68.18181818181817, 79.16666666666666, 59.09090909090909, 50.0, 59.09090909090909, 59.09090909090909, 54.166666666666664, 54.166666666666664, 54.54545454545454, 54.54545454545454, 73.07692307692307, 66.66666666666666, 62.5, 50.0, 33.33333333333333, 37.5, 37.5, 37.5, 66.66666666666666, 37.5, 50.0, 62.5, 45.45454545454545, 40.909090909090914, 58.333333333333336, 66.66666666666666, 37.5, 58.333333333333336, 50.0, 50.0, 36.36363636363637]\n",
      "GC content of reverse primers with restriction sites = [0.4166666666666667, 0.6666666666666666, 0.5, 0.6538461538461539, 0.7083333333333334, 0.5416666666666666, 0.5416666666666666, 0.8333333333333334, 0.6538461538461539, 0.4583333333333333, 0.625, 0.75, 0.4583333333333333, 0.4166666666666667, 0.625, 0.7916666666666666, 0.75, 0.6923076923076923, 0.75, 0.625, 0.7083333333333334, 0.5833333333333334, 0.5, 0.4166666666666667, 0.5833333333333334, 0.6363636363636364, 0.6666666666666666, 0.6666666666666666, 0.625, 0.5833333333333334, 0.5833333333333334, 0.5833333333333334, 0.6666666666666666, 0.4090909090909091, 0.5, 0.25, 0.5, 0.34615384615384615, 0.5833333333333334, 0.4583333333333333, 0.625, 0.5909090909090909, 0.5, 0.5833333333333334, 0.5416666666666666, 0.6923076923076923, 0.7692307692307693, 0.5909090909090909, 0.5, 0.7692307692307693]\n"
     ]
    }
   ],
   "source": [
    "genes = ['AACTCGCCAACCTTACCAGACTCTCGATCACAGCGATTTAGGATCGTCCGAATCGACGGAGGGGCGCCCACGTTGACGCTCCTAGATAAGATGGTGAGCCGTACAAATCCGTGCGAGGCCTCCTAGGGTTCTGACAAAGGAAATATCAGGCCCTCGCTGCTGGCTATTCCACGGGTGTCCAATGGACCATGTCGAAGGAACGTATAACAAATAGATGGAGTGCGGACGATGTCTCTATAAAATAGAGACAAGATACTCGAGTAAAGCATCCAGATGTACGTGTGGCTTT',\n",
    "        'AACTCGCCAACCTTACCAGACTCTCGATCACAGCGATTTAGGATCGTCCGAATCGACGGAGGGGCGCCCACGTTGACGCTCCTAGATAAGATGGTGAGCCGTACAAATCC',\n",
    "       'TCTCGATCACAGCGATTTAGGATCGTCCGAATCGACGGAGGGGCGCCCACGTTGACGCTCCTAGATAAGATGGTGAGCCGTACAAATCCGTGCGAGGCCTCCTAGGGTTCTGACAAAGGAA',\n",
    "       'TCCGAATCGACGGAGGGGCGCCCACGTTGACGCTCCTAGATAAGATGGTGAGCCGTACAAATCCGTGCGAGGCCTCCTAGGGTTCTG',\n",
    "         'TCACAGCGATTTAGGATCGTCCGAATCGACGGAGGGGCGCCCACGTTGACGCTCCTAGATAAGATGGTGAGCCGTACAAATCCGTGCGAGGCCTCCTAGGGTTCTGA',\n",
    "         'CAACCTTACCAGACTCTCGATCACAGCGATTTAGGATCGTCCGAATCGACGGAGGGGCGCCCACGTTGACGCTCCTAGATAAGATGGTGAGCCGTACAA',\n",
    "         'ATGCTGCGCGAGCTGCAGGA GACCAATGCCGCCCTGCAGGACGTGCGCGAGCTGCTGCGCCACCGCGTGAAGGAGATCACCTTCCTGAAGAACACCGTG',\n",
    "         'ATGGAGTGCGACGCCTGCGGCATGCAGCCCTCTAGAGGCTCCGGCTCCATCATCCCAGTTGAGGAGGAGAACCCGGACTTCTGGAACCGCGAGGCAGCCGAGG',\n",
    "         'CCCTGGGTGCCGCCAAGAAGCTGCAGCCTGCACAGACAGCCGCCAAGAACCTCATCATCTTCCTGGGCGATGGGATGGGGGTGTCTACGGTGACAGCTGCCAGGATCC',\n",
    "         'TAAAAGGGCAGAAGAAGGACAAACTGGGGCCTGAGATACCCCTGGCCATGGACCGCTTCCCATATGTGGCTCTGTCCAAGACATACAATGTAGACAAACATGTGC',\n",
    "         'CAGACAGTGGAGCCACAGCCACGGCCTACCTGTGCGGGGTCAAGGGCAACTTCCAGACCATTGGCTTGAGTGCAGCCGCCCGCTTTAACCAGTGCAACACGACACGC',\n",
    "        'GGCAACGAGGTCATCTCCGTGATGAATCGGGCCAAGAAAGCAGGGAAGTCAGTGGGAGTGGTAACCACCACACGAGTGCAGCACGCCTCGCCAGCCGGCACCTACGCC',\n",
    "         'CACACGGTGAACCGCAACTGGTACTCGGACGCCGACGTGCCTGCCTCGGCCCGCCAGGAGGGGTGCCAGGACATCGCTACGCAGCTCATCTCCAACATGGACATT',\n",
    "         'GACGTGATCCTAGGTGGAGGCCGAAAGTACATGTTTCGCATGGGAACCCCAGACCCTGAGTACCCAGATGACTACAGCCAAGGTGGGACCAGGCTGGACGGGAAGAAT',\n",
    "         'CTGGTGCAGGAATGGCTGGCGAAGCGCCAGGGTGCCCGGTATGTGTGGAACCGCACTGAGCTCATGCAGGCTTCCCTGGACCCGTCTGTGACCCATCTCATGGGTCTCTT',\n",
    "         'TGAGCCTGGAGACATGAAATACGAGATCCACCGAGACTCCACACTGGACCCCTCCCTGATGGAGATGACAGAGGCTGCCCTGCGCCTGCTGAGCAGGAACCCCCGCGGCTTCTTCCT',\n",
    "         'CTTCGTGGAGGGTGGTCGCATCGACCATGGTCATCATGAAAGCAGGGCTTACCGGGCACTGACTGAGACGATCATGTTCGACGACGCCATTGAGAGGGCGGGCCAGCTCACCAGCG',\n",
    "         'AGGAGGACACGCTGAGCCTCGTCACTGCCGACCACTCCCACGTCTTCTCCTTCGGAGGCTACCCCCTGCGAGGGAGCTCCATCTTCGGGCTGGCCCCTGGCAAGGCCCGGGACAGGAA',\n",
    "         'GGCCTACACGGTCCTCCTATACGGAAACGGTCCAGGCTATGTGCTCAAGGACGGCGCCCGGCCGGATGTTACCGAGAGCGAGAGCGGGAGCCCCGAGTATCGGCAGCAGTCAGCAGTGCCCCTGG',\n",
    "         'ACGAAGAGACCCACGCAGGCGAGGACGTGGCGGTGTTCGCGCGCGGCCCGCAGGCGCACCTGGTTCACGGCGTGCAGGAGCAGACCTTCATAGCGCACGTCATGGCCTTCGCCGCCTGCCTGGAGCCCTACACCGC',\n",
    "         'CTGCGACCTGGCGCCCCCCGCCGGCACCACCGACGCCGCGCACCCGGGTTCTAGAGGAAGCACCTCCGGCGATAACGATTACAAGGATGATGATGATAAGGCCAGCGGCAC',\n",
    "         'CGGTCATCATCACCATCACCATTGCGCACCCGGGTTCTAGAGGAAGCACCTCCGGCGATAACGACGTGCCTGCCTCGGCCCGCCAGGAGGGGTGCCAGGACATCGCTACGCAGCTCAT',\n",
    "         'ACGAGGTCATCTCCGTGATGAATCGGGCCAAGAAAGCAGGGAAGTCAGTGGGAGTGGTAACCACCACACCGGAGGGGCGCCCACGTTGACGCTCCTAGATAAGATGGTGAGCCGTACAAATCCGTGCGAG',\n",
    "         'GCAACTGGTACTCGGACGCCGACGTGCCTGCCTCGGCCCGCCAGGAGGGGTGCCAGGACATCGCTACGCAGCTCATCTCCAACA',\n",
    "         'TCGACCATGGTCATCATGAAAGCAGGGCTTACCGGGCACTGACTGAGACGATCATGTTCGAAAGATGGTGAGCCGTACAAATCCGTGCGAGG',\n",
    "         'TCGCGCGTTTCGGTGATGACGGTGAAAACCTCTGACACATGCAGCTCCCGGAGACGGTCACAGCTTGTCTGTAAGCGGATGCCGGGAGCAGACAAGCCCGTCAGGG',\n",
    "         'CGCGTCAGCGGGTGTTGGCGGGTGTCGGGGCTGGCTTAACTATGCGGCATCAGAGCAGATTGTACTGAGAGTGCACCATATGCGGTGTGAAATACCGCACAGATGCGTAAG',\n",
    "         'GAGAAAATACCGCATCAGGCGCCATTCGCCATTCAGGCTGCGCAACTGTTGGGAAGGGCGATCGGTGCGGGCCTCTTCGCTATTACGCCAGCTGGCGAAAGGGGGATGTGC',\n",
    "         'TGCAAGGCGATTAAGTTGGGTAACGCCAGGGTTTTCCCAGTCACGACGTTGTAAAACGACGGCCAGTGAATTAATTCGTTGCAGGACAGGATGTGGTGCCCGATGTGACTAGC',\n",
    "         'TCTTTGCTGCAGGCCGTCCTATCCTCTGGTTCCGATAAGAGACCCAGAACTCCGGCCCCCCACCGCCCACCGCCACCCCCATACATATGTGGTACGCAAGTAAGAGTGCCTGCG',\n",
    "         'CATGCCCCATGTGCCCCACCAAGAGCTTTGCATCCCATACAAGTCCCCAAAGTGGAGAACCGAACCAATTCTTCGCGGGCAGAACAAAAGCTTCTGCACACGTCTCCACTCGAA',\n",
    "         'TTTGGAGCCGGCCGGCGTGTGCAAAAGAGGTGAATCGAACGAAAGACCCGTGTGTAAAGCCGCGTTTCCAAAATGTATAAAACCGAGAGCATCTGGCCAATGTGCATCAGTTGTG',\n",
    "         'GTCAGCAGCAAAATCAAGTGAATCATCTCAGTGCAACTAAAGGGGGGATCCGATCTCAATATGAAGTTATGCATATTACTGGCCGTCGTGGCCTTTGTTGGCCTCTCGCTCGGGA',\n",
    "         'GATCATCAACAAGTTTGTACAAAAAAGCTGAACGAGAAACGTAAAATGATATAAATATCAATATATTAAATTAGATTTTGCATAAAAAACAGACTACATAATACTGTAA',\n",
    "         'AACACAACATATCCAGTCACTATGGCGGCCGCATTAGGCACCCCAGGCTTTACACTTTATGCTTCCGGCTCGTATAATGTGTGGATTTTGAGTTAGGATCCGTCGAG',\n",
    "         'ATTTTCAGGAGCTAAGGAAGCTAAAATGGAGAAAAAAATCACTGGATATACCACCGTTGATATATCCCAATGGCATCGTAAAGAACATTTTGAGGCATTTC',\n",
    "         'AGTCAGTTGCTCAATGTACCTATAACCAGACCGTTCAGCTGGATATTACGGCCTTTTTAAAGACCGTAAAGAAAAATAAGCACAAGTTTTATCCGGCCTTTATTC',\n",
    "         'ACATTCTTGCCCGCCTGATGAATGCTCATCCGGAATTCCGTATGGCAATGAAAGACGGTGAGCTGGTGATATGGGATAGTGTTCACCCTTGTTACACCGTTTTCCATGAGC',\n",
    "         'AAACTGAAACGTTTTCATCGCTCTGGAGTGAATACCACGACGATTTCCGGCAGTTTCTACACATATATTCGCAAGATGTGGCGTGTTACGGTG',\n",
    "         'AAAACCTGGCCTATTTCCCTAAAGGGTTTATTGAGAATATGTTTTTCGTCTCAGCCAATCCCTGGGTGAGTTTCACCAGTTTTGATTTAAACGTGGCCAATATG',\n",
    "         'GACAACTTCTTCGCCCCCGTTTTCACCATGGGCAAATATTATACGCAAGGCGACAAGGTGCTGATGCCGCTGGCGATTCAGGTTCATCATGCCGTTTGTGATGGCTT',\n",
    "         'CCATGTCGGCAGAATGCTTAATGAATTACAACAGTACTGCGATGAGTGGCAGGGCGGGGCGTAAAGATCTGGATCCGGCTTACTAAAAGCCAGATAACAGTATGCG',\n",
    "         'TATTTGCGCGCTGATTTTTGCGGTATAAGAATATATACTGATATGTATACCCGAAGTATGTCAAAAAGAGGTATGCTATGAAGCAGCGTATTACAGTGA',\n",
    "         'CAGTTGACAGCGACAGCTATCAGTTGCTCAAGGCATATATGATGTCAATATCTCCGGTCTGGTAAGCACAACCATGCAGAATGAAGCCCGTCGTCTGCGTG',\n",
    "         'CCGAACGCTGGAAAGCGGAAAATCAGGAAGGGATGGCTGAGGTCGCCCGGTTTATTGAAATGAACGGCTCTTTTGCTGACGAGAACAGGGGCTGGTGAAATGCAG',\n",
    "         'TTTAAGGTTTACACCTATAAAAGAGAGAGCCGTTATCGTCTGTTTGTGGATGTACAGAGTGATATTATTGACACGCCCGGGCGACGGATGGTGATCCCCCTGGCCAGT',\n",
    "         'GCACGTCTGCTGTCAGATAAAGTCTCCCGTGAACTTTACCCGGTGGTGCATATCGGGGATGAAAGCTGGCGCATGATGACCACCGATATGGCCAGTGTGCCGGTCTCCGT',\n",
    "         'TATCGGGGAAGAAGTGGCTGATCTCAGCCACCGCGAAAATGACATCAAAAACGCCATTAACCTGATGTTCTGGGGAATATAAATGTCAGGCTCCCTTATACACAGCCAGTCTGC',\n",
    "         'AGGTCGACCATAGTGACTGGATATGTTGTGTTTTACAGTATTATGTAGTCTGTTTTTTATGCAAAATCTAATTTAATATATTGATATTTATATCATTTTACGTTTCTCGTTCAGC',\n",
    "         'TTTCTTGTACAAAGTGGTTGATATCCAGCACAGTGGCGGCCGCCTGGAGGTGCTGTTCCAGGGACCAAGCGGCAATCCCGGCGGCGATCTGGCCCCCCAG']\n",
    "         \n",
    "\n",
    "       \n",
    "melt_temp_F = []\n",
    "melt_temp_R = []\n",
    "gc_F = []\n",
    "gc_R = []\n",
    "melt_FR =[]\n",
    "melt_RR = []\n",
    "gc_FR =[]\n",
    "gc_RR = []\n",
    "for gene in genes:\n",
    "    forward_primer = gene[0:18]\n",
    "    GC_forward = (forward_primer.count (\"C\") + forward_primer.count (\"G\"))/ len (forward_primer)\n",
    "    GC_forward_primer = GC_forward*100\n",
    "    gc_F.append(GC_forward_primer)\n",
    "    \n",
    "    A_count = forward_primer.count('A')\n",
    "    T_count = forward_primer.count('T')\n",
    "    G_count = forward_primer.count('G')\n",
    "    C_count = forward_primer.count('C')\n",
    "    melt = (2*(A_count + T_count) + 4*(C_count + G_count)) - 7\n",
    "    melt_temp_F.append (melt)\n",
    "    \n",
    "    #Design the reverse primer based on the DNA sequence and Gene of interest\n",
    "    reverse_primer = gene[-18:]\n",
    "    reverse_primer = reverse_primer [::-1]\n",
    "    reverse_primer = reverse_primer.replace('C','P').replace('G','X').replace('A','V').replace('T','M').replace('P','G').replace('X','C').replace('V','T').replace('M','A')\n",
    "\n",
    "\n",
    "    GC_reverse_primer = ((reverse_primer.count (\"C\") + reverse_primer.count (\"G\"))/ len (reverse_primer))*100\n",
    "    gc_R.append(GC_reverse_primer)\n",
    "    \n",
    "    RA_count = reverse_primer.count('A')\n",
    "    RT_count = reverse_primer.count('T')\n",
    "    RG_count = reverse_primer.count('G')\n",
    "    RC_count = reverse_primer.count('C')\n",
    "    melt2 = (2*(RA_count + RT_count) + 4*(RC_count + RG_count)) - 7\n",
    "    melt_temp_R.append(melt2)\n",
    "\n",
    "    RE_sites = {'EcoRI':'GAATTC', 'NotI': 'GCGGCCGC', 'EcoRV': 'GATATC','AatlI': 'GACGTC', \n",
    "                'AgeI': 'ACCGGT', 'AluI': 'AGCT', 'ApaI': 'GGGCCC', \n",
    "                'ApaLI': 'GTGCAC', 'AcII': 'AACGTT', 'AscI': 'GGCGCGCC', 'AvrII': 'CCTAGG', \n",
    "                'BamHI': 'GGATCC', 'BcII': 'TGATCA', 'BglII': 'AGATCT', 'BmtI': 'GCTAGC', \n",
    "                'BsiWI': 'CGTACG', 'BstBI': 'TTCGAA', 'CfoI': 'GCGC', 'ClaI': 'ATCGAT', 'DraI': 'TTTAAA', \n",
    "                'HaeIII': 'GGCC', 'HhaI': 'GCGC', 'HindIII': 'AAGCTT', 'HpaI': 'GTTAAC', \n",
    "                'HpaII': 'CCGG', 'HinP1II': 'GCGC', 'KasI': 'GGCGCC', 'KpnI': 'GGTACC', \n",
    "                'MfeI': 'CAATTG', 'MseI': 'TTAA', 'MscI': 'TGGCCA', 'MspI': 'CCGG', \n",
    "                'MboI': 'GATC', 'NcoI':'CCATGG', 'NarI': 'GGCGCC', 'NaeI': 'GCCGGC', 'NcoI': 'CCATGG', \n",
    "                'NdeI': 'CATATG', 'NheI': 'GCTAGC', 'NruI': 'TCGCGA', 'NsiI': 'ATGCAT', \n",
    "                'PstI': 'CTGCAG', 'PciI': 'ACATGT', 'PvuI': 'CGATCG', \n",
    "                'PsiI': 'TTATAA', 'PacI': 'TTAATTAA', 'PvuII': 'CAGCTG', \n",
    "                'RsaI': 'GTAC', 'SacI': 'GAGCTC', 'SacII': 'CCGCGG', 'StuI': 'AGGCCT', \n",
    "                'SaII': 'GTCGAC', 'SbfI': 'CCTGCAGG', 'SmaI': 'CCCGGG', \n",
    "                'SphI': 'GCATGC', 'XbaI': 'TCTAGA', 'XhoI': 'CTCGAG', 'XmaI': 'CCCGGG' }\n",
    "    \n",
    "    RE_input = str(input(\"Select your first restriction enzyme\"))\n",
    "    RE_input2 = str(input(\"Select your second restriction enzyme\"))\n",
    "    for n,s in RE_sites.items():\n",
    "        if RE_input in n:\n",
    "            forward_primer2 = s+forward_primer\n",
    "\n",
    "        if RE_input2 in n:\n",
    "            reverse_primer2 = s+reverse_primer\n",
    "            break\n",
    "    GC_forward_primer2 = ((forward_primer2.count (\"C\") + forward_primer2.count (\"G\"))/ len (forward_primer2))*100\n",
    "    gc_FR.append(GC_forward_primer2)\n",
    "\n",
    "    GC_reverse_primer2 = (reverse_primer2.count (\"C\") + reverse_primer2.count (\"G\"))/ len (reverse_primer2)\n",
    "    gc_RR.append(GC_reverse_primer2)\n",
    "\n",
    "    A_count2 = forward_primer2.count('A')\n",
    "    T_count2 = forward_primer2.count('T')\n",
    "    G_count2 = forward_primer2.count('G')\n",
    "    C_count2 = forward_primer2.count('C')\n",
    "    melt3 = (2*(A_count2 + T_count2) + 4*(C_count2 + G_count2)) - 7\n",
    "    melt_FR.append(melt3)\n",
    "\n",
    "    RA_count2 = reverse_primer2.count('A')\n",
    "    RT_count2 = reverse_primer2.count('T')\n",
    "    RG_count2 = reverse_primer2.count('G')\n",
    "    RC_count2 = reverse_primer2.count('C')\n",
    "    melt4 = (2*(RA_count2 + RT_count2) + 4*(RC_count2 + RG_count2)) - 7\n",
    "    melt_RR.append(melt4)\n",
    "print (f'Melting temperature of forward primers = {melt_temp_F}')\n",
    "print (f'Melting temperature of reverse primers = {melt_temp_R}')\n",
    "print (f'GC content of forward primers = {gc_F}')\n",
    "\n",
    "print (f'GC content of reverse primers = {gc_R}')    \n",
    "\n",
    "\n",
    "\n",
    "print (f'Melting temperature of forward primers with restriction sites = {melt_FR}')\n",
    "print (f'Melting temperature of reverse primers with restriction sites = {melt_RR}')\n",
    "print (f'GC content of forward primers with restriction sites = {gc_FR}')\n",
    "print (f'GC content of reverse primers with restriction sites = {gc_RR}')\n",
    "\n",
    "\n",
    "\n"
   ]
  },
  {
   "cell_type": "code",
   "execution_count": 37,
   "id": "30315cc1-499a-4a15-b8e4-64fb40e006d3",
   "metadata": {},
   "outputs": [
    {
     "data": {
      "text/plain": [
       "[41.666666666666686,\n",
       " 66.66666666666666,\n",
       " 50.0,\n",
       " 65.38461538461537,\n",
       " 70.83333333333334,\n",
       " 54.16666666666665,\n",
       " 54.16666666666665,\n",
       " 83.33333333333337,\n",
       " 65.38461538461537,\n",
       " 45.83333333333333,\n",
       " 62.5,\n",
       " 75.0,\n",
       " 45.83333333333333,\n",
       " 41.666666666666686,\n",
       " 62.5,\n",
       " 79.16666666666666,\n",
       " 75.0,\n",
       " 69.23076923076921,\n",
       " 75.0,\n",
       " 62.5,\n",
       " 70.83333333333334,\n",
       " 58.33333333333335,\n",
       " 50.0,\n",
       " 41.666666666666686,\n",
       " 58.33333333333335,\n",
       " 63.63636363636361,\n",
       " 66.66666666666666,\n",
       " 66.66666666666666,\n",
       " 62.5,\n",
       " 58.33333333333335,\n",
       " 58.33333333333335,\n",
       " 58.33333333333335,\n",
       " 66.66666666666666,\n",
       " 40.9090909090909,\n",
       " 50.0,\n",
       " 25.0,\n",
       " 50.0,\n",
       " 34.615384615384606,\n",
       " 58.33333333333335,\n",
       " 45.83333333333333,\n",
       " 62.5,\n",
       " 59.09090909090911,\n",
       " 50.0,\n",
       " 58.33333333333335,\n",
       " 54.16666666666665,\n",
       " 69.23076923076921,\n",
       " 76.92307692307692,\n",
       " 59.09090909090911,\n",
       " 50.0,\n",
       " 76.92307692307692]"
      ]
     },
     "execution_count": 37,
     "metadata": {},
     "output_type": "execute_result"
    }
   ],
   "source": [
    "gc_RR=[item*100 for item in gc_RR]\n",
    "\n",
    "gc_RR"
   ]
  },
  {
   "cell_type": "code",
   "execution_count": 38,
   "id": "ffbdc712-7c80-4656-b189-4bd82f8445fb",
   "metadata": {},
   "outputs": [],
   "source": [
    "import csv\n",
    "with open('Python_data.csv', 'w', newline='') as outfile:\n",
    "    rowlists = zip(melt_temp_F, melt_temp_R, gc_F, gc_R, melt_FR, melt_RR, gc_FR, gc_RR)\n",
    "\n",
    "    writer = csv.writer(outfile)\n",
    "    for row in rowlists:\n",
    "        writer.writerow(row)"
   ]
  },
  {
   "cell_type": "code",
   "execution_count": 39,
   "id": "cd31bd20-902b-493d-acfc-25e55819b7e8",
   "metadata": {},
   "outputs": [],
   "source": [
    "import pandas as pd\n",
    "df = pd.read_csv('python_data.csv', header=None)\n",
    "df.rename(columns={0: 'melt_F', 1: 'melt_R', 2: 'GC_F', 3: 'GC_R', 4: 'melt_FR', 5: 'melt_RR', 6: 'GC_FR', 7: 'GC_RR'\n",
    "                  }, inplace=True)\n",
    "df.to_csv('python_data_col.csv', index=False)"
   ]
  },
  {
   "cell_type": "code",
   "execution_count": 11,
   "id": "da85f684-86a9-4f85-b4ed-a699d4f6897e",
   "metadata": {},
   "outputs": [],
   "source": [
    "import pandas as pd\n",
    "df = pd.read_csv(\"python_project_data_.csv\")\n",
    "melt_F = list(df.melt_F) \n",
    "melt_R = list (df.melt_R)\n",
    "GC_F = list (df.GC_F)\n",
    "GC_R = list (df.GC_R)\n",
    "melt_FR = list(df.melt_FR)\n",
    "melt_RR = list (df.melt_RR)\n",
    "GC_FR = list (df.GC_FR)\n",
    "GC_RR = list (df.GC_RR)\n"
   ]
  },
  {
   "cell_type": "code",
   "execution_count": null,
   "id": "f339ea93-993e-4d5e-8ee1-6addceaa6939",
   "metadata": {},
   "outputs": [],
   "source": []
  },
  {
   "cell_type": "code",
   "execution_count": 64,
   "id": "e2032ad6-0448-4131-b1e1-056ac109e512",
   "metadata": {},
   "outputs": [],
   "source": [
    "%matplotlib inline\n",
    "import matplotlib.pyplot as plt "
   ]
  },
  {
   "cell_type": "code",
   "execution_count": 32,
   "id": "a2d61206-5b44-484b-b0b7-9fd2463cf531",
   "metadata": {},
   "outputs": [
    {
     "data": {
      "text/plain": [
       "ShapiroResult(statistic=0.9707015156745911, pvalue=0.24710743129253387)"
      ]
     },
     "execution_count": 32,
     "metadata": {},
     "output_type": "execute_result"
    }
   ],
   "source": [
    "import scipy.stats as stats\n",
    "\n",
    "stats.shapiro(melt_F)"
   ]
  },
  {
   "cell_type": "code",
   "execution_count": null,
   "id": "4d9f50e6-3316-478b-a0de-57a53c9dd2b5",
   "metadata": {},
   "outputs": [],
   "source": []
  },
  {
   "cell_type": "code",
   "execution_count": 33,
   "id": "595f71c7-4a47-4eeb-b51f-be27b5f8e13c",
   "metadata": {},
   "outputs": [
    {
     "data": {
      "text/plain": [
       "ShapiroResult(statistic=0.9701176881790161, pvalue=0.23401087522506714)"
      ]
     },
     "execution_count": 33,
     "metadata": {},
     "output_type": "execute_result"
    }
   ],
   "source": [
    "stats.shapiro(melt_R)"
   ]
  },
  {
   "cell_type": "code",
   "execution_count": 25,
   "id": "f991126e-44c3-44df-ad48-436f5d4b0d69",
   "metadata": {},
   "outputs": [
    {
     "data": {
      "text/plain": [
       "BartlettResult(statistic=0.08115641474429218, pvalue=0.7757363475333449)"
      ]
     },
     "execution_count": 25,
     "metadata": {},
     "output_type": "execute_result"
    }
   ],
   "source": [
    "stats.bartlett(melt_F, melt_R)"
   ]
  },
  {
   "cell_type": "code",
   "execution_count": 34,
   "id": "2847eb48-4711-48ee-89f7-bacf972da186",
   "metadata": {},
   "outputs": [
    {
     "data": {
      "text/plain": [
       "Ttest_relResult(statistic=-30.17515616818201, pvalue=2.5990172420559626e-33)"
      ]
     },
     "execution_count": 34,
     "metadata": {},
     "output_type": "execute_result"
    }
   ],
   "source": [
    "\n",
    "# Performing the paired sample t-test\n",
    "stats.ttest_rel(melt_F, melt_FR)"
   ]
  },
  {
   "cell_type": "code",
   "execution_count": 69,
   "id": "6327793a-46ef-4c50-991f-951a7344d8a9",
   "metadata": {},
   "outputs": [],
   "source": [
    "melts_REs = [melt_F, melt_FR]\n"
   ]
  },
  {
   "cell_type": "code",
   "execution_count": 68,
   "id": "39e7dd03-9768-4507-9128-bb2653aa4503",
   "metadata": {},
   "outputs": [
    {
     "data": {
      "image/png": "[encoded data removed]",
      "text/plain": [
       "<Figure size 1000x800 with 1 Axes>"
      ]
     },
     "metadata": {},
     "output_type": "display_data"
    }
   ],
   "source": [
    "plt.figure(figsize=(10,8))\n",
    "plt.boxplot(melts_REs,\n",
    "           labels= ['Melting temp of forward primer without RE', 'Melting temp of forward primer with RE'])\n",
    "\n",
    "plt.show()"
   ]
  },
  {
   "cell_type": "code",
   "execution_count": null,
   "id": "7ba33003-24ed-44d1-a8c6-71f60d401ddc",
   "metadata": {},
   "outputs": [],
   "source": []
  },
  {
   "cell_type": "code",
   "execution_count": null,
   "id": "7d3ea938-22a9-414b-b770-c5aaccbb023e",
   "metadata": {},
   "outputs": [],
   "source": []
  },
  {
   "cell_type": "code",
   "execution_count": 30,
   "id": "977cd3d3-1084-45fb-b683-907a06677d47",
   "metadata": {},
   "outputs": [
    {
     "data": {
      "text/plain": [
       "ShapiroResult(statistic=0.9701176881790161, pvalue=0.23401087522506714)"
      ]
     },
     "execution_count": 30,
     "metadata": {},
     "output_type": "execute_result"
    }
   ],
   "source": [
    "stats.shapiro(melt_R)"
   ]
  },
  {
   "cell_type": "code",
   "execution_count": 31,
   "id": "d91320fb-de34-4b3b-aa93-73ccf35abcc8",
   "metadata": {},
   "outputs": [
    {
     "data": {
      "text/plain": [
       "ShapiroResult(statistic=0.978863537311554, pvalue=0.5050904750823975)"
      ]
     },
     "execution_count": 31,
     "metadata": {},
     "output_type": "execute_result"
    }
   ],
   "source": [
    "stats.shapiro(melt_RR)"
   ]
  },
  {
   "cell_type": "code",
   "execution_count": 26,
   "id": "54ef7b9c-5034-4653-bddd-713b97774d36",
   "metadata": {},
   "outputs": [
    {
     "data": {
      "text/plain": [
       "BartlettResult(statistic=13.535985829926988, pvalue=0.00023403241880587806)"
      ]
     },
     "execution_count": 26,
     "metadata": {},
     "output_type": "execute_result"
    }
   ],
   "source": [
    "stats.bartlett(melt_R, melt_RR)"
   ]
  },
  {
   "cell_type": "code",
   "execution_count": 29,
   "id": "9d954060-f745-414d-8a1d-f0560df9fad4",
   "metadata": {},
   "outputs": [
    {
     "data": {
      "text/plain": [
       "WilcoxonResult(statistic=0.0, pvalue=5.282728985502534e-10)"
      ]
     },
     "execution_count": 29,
     "metadata": {},
     "output_type": "execute_result"
    }
   ],
   "source": [
    "stats.wilcoxon(melt_R, melt_RR) ## non-parametric paired t test"
   ]
  },
  {
   "cell_type": "code",
   "execution_count": 70,
   "id": "f0d051d1-f973-4248-8475-d43fe686dd09",
   "metadata": {},
   "outputs": [],
   "source": [
    "meltRs = [melt_R,melt_RR]"
   ]
  },
  {
   "cell_type": "code",
   "execution_count": 72,
   "id": "ac9b7252-855a-4041-bb3a-957f99aa1805",
   "metadata": {},
   "outputs": [
    {
     "data": {
      "image/png": "[encoded data removed]",
      "text/plain": [
       "<Figure size 1000x800 with 1 Axes>"
      ]
     },
     "metadata": {},
     "output_type": "display_data"
    }
   ],
   "source": [
    "plt.figure(figsize=(10,8))\n",
    "plt.boxplot(meltRs,\n",
    "           labels= ['Melting temp of reverse primer without RE', 'Melting temp of reverse primer with RE'])\n",
    "\n",
    "plt.show()"
   ]
  },
  {
   "cell_type": "code",
   "execution_count": null,
   "id": "a13c209a-e898-410c-8edd-54e17e02b06b",
   "metadata": {},
   "outputs": [],
   "source": []
  },
  {
   "cell_type": "code",
   "execution_count": null,
   "id": "eacd533b-dbc2-427b-84e4-8d9cc4f97078",
   "metadata": {},
   "outputs": [],
   "source": []
  },
  {
   "cell_type": "code",
   "execution_count": 35,
   "id": "32197c51-e16e-4ca9-8388-6163ba88ee32",
   "metadata": {},
   "outputs": [
    {
     "data": {
      "text/plain": [
       "ShapiroResult(statistic=0.9707013964653015, pvalue=0.24710406363010406)"
      ]
     },
     "execution_count": 35,
     "metadata": {},
     "output_type": "execute_result"
    }
   ],
   "source": [
    "stats.shapiro(GC_F)"
   ]
  },
  {
   "cell_type": "code",
   "execution_count": 36,
   "id": "9dcac60f-7022-46f6-9b34-cfc8e7863bc3",
   "metadata": {},
   "outputs": [
    {
     "data": {
      "text/plain": [
       "ShapiroResult(statistic=0.9687831401824951, pvalue=0.20642709732055664)"
      ]
     },
     "execution_count": 36,
     "metadata": {},
     "output_type": "execute_result"
    }
   ],
   "source": [
    "stats.shapiro(GC_FR)"
   ]
  },
  {
   "cell_type": "code",
   "execution_count": 40,
   "id": "9258fa4b-769c-4a87-960e-3e48e4b82dd0",
   "metadata": {},
   "outputs": [
    {
     "data": {
      "text/plain": [
       "BartlettResult(statistic=0.41690599966127734, pvalue=0.5184849416183207)"
      ]
     },
     "execution_count": 40,
     "metadata": {},
     "output_type": "execute_result"
    }
   ],
   "source": [
    "stats.bartlett(GC_F, GC_FR)"
   ]
  },
  {
   "cell_type": "code",
   "execution_count": 14,
   "id": "a54e2244-782a-4e97-bd3e-7e998262a919",
   "metadata": {},
   "outputs": [
    {
     "data": {
      "text/plain": [
       "Ttest_relResult(statistic=-1.1749992647936902, pvalue=0.24567334764225482)"
      ]
     },
     "execution_count": 14,
     "metadata": {},
     "output_type": "execute_result"
    }
   ],
   "source": [
    "stats.ttest_rel(GC_F, GC_FR)"
   ]
  },
  {
   "cell_type": "code",
   "execution_count": 73,
   "id": "e0b971d3-7d4b-4ef6-a96d-19e8c218bbcc",
   "metadata": {},
   "outputs": [],
   "source": [
    "GCFs = [GC_F,GC_FR]"
   ]
  },
  {
   "cell_type": "code",
   "execution_count": 75,
   "id": "45eaf872-0c8b-4eb5-b0b6-c8831eaea721",
   "metadata": {},
   "outputs": [
    {
     "data": {
      "image/png": "[encoded data removed]",
      "text/plain": [
       "<Figure size 1000x800 with 1 Axes>"
      ]
     },
     "metadata": {},
     "output_type": "display_data"
    }
   ],
   "source": [
    "plt.figure(figsize=(10,8))\n",
    "plt.boxplot(GCFs,\n",
    "           labels= ['GC content of forward primer withot RE', 'GC content of forward primer with RE'])\n",
    "\n",
    "plt.show()"
   ]
  },
  {
   "cell_type": "code",
   "execution_count": null,
   "id": "5b294bd5-3faf-4350-b49b-bb400a4ebbd1",
   "metadata": {},
   "outputs": [],
   "source": []
  },
  {
   "cell_type": "code",
   "execution_count": null,
   "id": "a0a785ba-dae4-4d1e-8adb-a197c08e31e2",
   "metadata": {},
   "outputs": [],
   "source": []
  },
  {
   "cell_type": "code",
   "execution_count": 38,
   "id": "9b9c3b1f-e227-495a-807e-3fbdbbf91ba0",
   "metadata": {},
   "outputs": [
    {
     "data": {
      "text/plain": [
       "ShapiroResult(statistic=0.9701178073883057, pvalue=0.23401398956775665)"
      ]
     },
     "execution_count": 38,
     "metadata": {},
     "output_type": "execute_result"
    }
   ],
   "source": [
    "stats.shapiro(GC_R)"
   ]
  },
  {
   "cell_type": "code",
   "execution_count": 39,
   "id": "260cc4a1-5bff-4d94-879b-555d650c579e",
   "metadata": {},
   "outputs": [
    {
     "data": {
      "text/plain": [
       "ShapiroResult(statistic=0.9818623661994934, pvalue=0.6327241659164429)"
      ]
     },
     "execution_count": 39,
     "metadata": {},
     "output_type": "execute_result"
    }
   ],
   "source": [
    "stats.shapiro(GC_RR)"
   ]
  },
  {
   "cell_type": "code",
   "execution_count": 41,
   "id": "07338d1c-405b-4768-8e37-95ad4ba2f339",
   "metadata": {},
   "outputs": [
    {
     "data": {
      "text/plain": [
       "BartlettResult(statistic=0.046597277496409864, pvalue=0.8290937394828056)"
      ]
     },
     "execution_count": 41,
     "metadata": {},
     "output_type": "execute_result"
    }
   ],
   "source": [
    "stats.bartlett(GC_R, GC_RR)"
   ]
  },
  {
   "cell_type": "code",
   "execution_count": 42,
   "id": "cef6d10d-8290-4b6b-b875-1583cd175a32",
   "metadata": {},
   "outputs": [
    {
     "data": {
      "text/plain": [
       "Ttest_relResult(statistic=-2.494374542741736, pvalue=0.016039270674156298)"
      ]
     },
     "execution_count": 42,
     "metadata": {},
     "output_type": "execute_result"
    }
   ],
   "source": [
    "stats.ttest_rel(GC_R, GC_RR)"
   ]
  },
  {
   "cell_type": "code",
   "execution_count": 78,
   "id": "de31fa99-147b-4acf-ae8f-a4f7421597f1",
   "metadata": {},
   "outputs": [
    {
     "data": {
      "image/png": "[encoded data removed]",
      "text/plain": [
       "<Figure size 1000x800 with 1 Axes>"
      ]
     },
     "metadata": {},
     "output_type": "display_data"
    }
   ],
   "source": [
    "GCRs = [GC_R,GC_RR]\n",
    "plt.figure(figsize=(10,8))\n",
    "plt.boxplot(GCRs,\n",
    "           labels= ['GC content of reverse primer withot RE', 'GC content of reverse primer with RE'])\n",
    "\n",
    "plt.show()"
   ]
  },
  {
   "cell_type": "code",
   "execution_count": null,
   "id": "e41d4bf6-0a58-4265-b4ad-14914991cc00",
   "metadata": {},
   "outputs": [],
   "source": []
  },
  {
   "cell_type": "code",
   "execution_count": null,
   "id": "e56ecfc7-459b-417a-b7c3-9397bf8a1578",
   "metadata": {},
   "outputs": [],
   "source": []
  },
  {
   "cell_type": "code",
   "execution_count": 43,
   "id": "58ee0a30-1575-4743-b877-ea0e858b531f",
   "metadata": {},
   "outputs": [
    {
     "data": {
      "text/plain": [
       "ShapiroResult(statistic=0.9707015156745911, pvalue=0.24710743129253387)"
      ]
     },
     "execution_count": 43,
     "metadata": {},
     "output_type": "execute_result"
    }
   ],
   "source": [
    "stats.shapiro(melt_F)"
   ]
  },
  {
   "cell_type": "code",
   "execution_count": 44,
   "id": "f1437bc2-39b2-4b14-b959-0cd0f55e7f52",
   "metadata": {},
   "outputs": [
    {
     "data": {
      "text/plain": [
       "ShapiroResult(statistic=0.9701176881790161, pvalue=0.23401087522506714)"
      ]
     },
     "execution_count": 44,
     "metadata": {},
     "output_type": "execute_result"
    }
   ],
   "source": [
    "stats.shapiro(melt_R)"
   ]
  },
  {
   "cell_type": "code",
   "execution_count": 45,
   "id": "2d1ecdd5-87e3-41f8-8d6e-e38e758ab760",
   "metadata": {},
   "outputs": [
    {
     "data": {
      "text/plain": [
       "BartlettResult(statistic=0.08115641474429218, pvalue=0.7757363475333449)"
      ]
     },
     "execution_count": 45,
     "metadata": {},
     "output_type": "execute_result"
    }
   ],
   "source": [
    "stats.bartlett(melt_F, melt_R)"
   ]
  },
  {
   "cell_type": "code",
   "execution_count": 46,
   "id": "dc09e899-4c88-44b6-8337-0e2a45fc37e3",
   "metadata": {},
   "outputs": [
    {
     "data": {
      "text/plain": [
       "Ttest_indResult(statistic=-0.870248153761015, pvalue=0.3862914564944705)"
      ]
     },
     "execution_count": 46,
     "metadata": {},
     "output_type": "execute_result"
    }
   ],
   "source": [
    "stats.ttest_ind(melt_F, melt_R, equal_var=True)"
   ]
  },
  {
   "cell_type": "code",
   "execution_count": 76,
   "id": "cf43233e-9096-49b6-86cf-1ac4494c9db4",
   "metadata": {},
   "outputs": [],
   "source": [
    "import numpy as np\n",
    "melt_Fn=np.array(melt_F)\n",
    "melt_Rn = np.array(melt_R)\n",
    "melts = [melt_Rn, melt_Rn]\n"
   ]
  },
  {
   "cell_type": "code",
   "execution_count": 77,
   "id": "593e71b8-50b7-457b-9cf0-c2689ac1258b",
   "metadata": {},
   "outputs": [
    {
     "data": {
      "image/png": "[encoded data removed]",
      "text/plain": [
       "<Figure size 1000x800 with 1 Axes>"
      ]
     },
     "metadata": {},
     "output_type": "display_data"
    }
   ],
   "source": [
    "plt.figure(figsize=(10,8))\n",
    "plt.boxplot(melts,\n",
    "           labels= ['Melting temp of forward primer', 'Melting temp of reverse primer'])\n",
    "\n",
    "plt.show()"
   ]
  },
  {
   "cell_type": "code",
   "execution_count": null,
   "id": "4b5f77b4-88a7-4974-8062-56b4e9cb3968",
   "metadata": {},
   "outputs": [],
   "source": []
  }
 ],
 "metadata": {
  "kernelspec": {
   "display_name": "Python 3 (ipykernel)",
   "language": "python",
   "name": "python3"
  },
  "language_info": {
   "codemirror_mode": {
    "name": "ipython",
    "version": 3
   },
   "file_extension": ".py",
   "mimetype": "text/x-python",
   "name": "python",
   "nbconvert_exporter": "python",
   "pygments_lexer": "ipython3",
   "version": "3.9.13"
  }
 },
 "nbformat": 4,
 "nbformat_minor": 5
}
